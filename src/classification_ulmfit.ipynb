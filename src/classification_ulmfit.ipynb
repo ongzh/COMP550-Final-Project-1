{
  "nbformat": 4,
  "nbformat_minor": 5,
  "metadata": {
    "kernelspec": {
      "display_name": "Python 3 (ipykernel)",
      "language": "python",
      "name": "python3"
    },
    "language_info": {
      "codemirror_mode": {
        "name": "ipython",
        "version": 3
      },
      "file_extension": ".py",
      "mimetype": "text/x-python",
      "name": "python",
      "nbconvert_exporter": "python",
      "pygments_lexer": "ipython3",
      "version": "3.8.8"
    },
    "colab": {
      "name": "classification_ulmfit.ipynb",
      "provenance": [],
      "collapsed_sections": [],
      "toc_visible": true
    },
    "accelerator": "GPU"
  },
  "cells": [
    {
      "cell_type": "code",
      "metadata": {
        "id": "oInKJHZSTyB0"
      },
      "source": [
        "!pip install -Uqq fastai fastbook"
      ],
      "id": "oInKJHZSTyB0",
      "execution_count": 1,
      "outputs": []
    },
    {
      "cell_type": "markdown",
      "metadata": {
        "id": "lIo32dvyLhwu"
      },
      "source": [
        "get Dataset"
      ],
      "id": "lIo32dvyLhwu"
    },
    {
      "cell_type": "code",
      "metadata": {
        "scrolled": true,
        "colab": {
          "base_uri": "https://localhost:8080/"
        },
        "id": "47a2c6b8",
        "outputId": "2e982543-9312-4b09-8284-0f4bc2fbbd39"
      },
      "source": [
        "from fastai.text.all import *\n",
        "import torchtext\n",
        "\n",
        "train_iter, test_iter = torchtext.datasets.IMDB(root='../data', split=('train', 'test'))\n",
        "\n",
        "train_df = pd.DataFrame(train_iter, columns=['label', 'text'])\n",
        "test_df = pd.DataFrame(test_iter, columns=['label', 'text'])\n",
        "\n"
      ],
      "id": "47a2c6b8",
      "execution_count": 2,
      "outputs": [
        {
          "output_type": "stream",
          "name": "stderr",
          "text": [
            "100%|██████████| 84.1M/84.1M [00:02<00:00, 38.7MB/s]\n"
          ]
        }
      ]
    },
    {
      "cell_type": "markdown",
      "metadata": {
        "id": "AtdtP7vLLlR9"
      },
      "source": [
        "WE can augment data in pandas here "
      ],
      "id": "AtdtP7vLLlR9"
    },
    {
      "cell_type": "code",
      "metadata": {
        "id": "Obdf7OGHKGbr"
      },
      "source": [
        "tf = train_df[:1000].append(train_df[24000:25000])\n",
        "tester = test_df[:1000].append(test_df[24000:25000])"
      ],
      "id": "Obdf7OGHKGbr",
      "execution_count": 78,
      "outputs": []
    },
    {
      "cell_type": "code",
      "metadata": {
        "colab": {
          "base_uri": "https://localhost:8080/",
          "height": 580
        },
        "id": "NVNxtmReuAzg",
        "outputId": "02318c38-50e8-49a0-af10-f204bd941090"
      },
      "source": [
        "display(tf)"
      ],
      "id": "NVNxtmReuAzg",
      "execution_count": 79,
      "outputs": [
        {
          "output_type": "display_data",
          "data": {
            "text/html": [
              "<div>\n",
              "<style scoped>\n",
              "    .dataframe tbody tr th:only-of-type {\n",
              "        vertical-align: middle;\n",
              "    }\n",
              "\n",
              "    .dataframe tbody tr th {\n",
              "        vertical-align: top;\n",
              "    }\n",
              "\n",
              "    .dataframe thead th {\n",
              "        text-align: right;\n",
              "    }\n",
              "</style>\n",
              "<table border=\"1\" class=\"dataframe\">\n",
              "  <thead>\n",
              "    <tr style=\"text-align: right;\">\n",
              "      <th></th>\n",
              "      <th>label</th>\n",
              "      <th>text</th>\n",
              "    </tr>\n",
              "  </thead>\n",
              "  <tbody>\n",
              "    <tr>\n",
              "      <th>0</th>\n",
              "      <td>neg</td>\n",
              "      <td>I rented I AM CURIOUS-YELLOW from my video store because of all the controversy that surrounded it when it was first released in 1967. I also heard that at first it was seized by U.S. customs if it ever tried to enter this country, therefore being a fan of films considered \"controversial\" I really had to see this for myself.&lt;br /&gt;&lt;br /&gt;The plot is centered around a young Swedish drama student named Lena who wants to learn everything she can about life. In particular she wants to focus her attentions to making some sort of documentary on what the average Swede thought about certain politica...</td>\n",
              "    </tr>\n",
              "    <tr>\n",
              "      <th>1</th>\n",
              "      <td>neg</td>\n",
              "      <td>\"I Am Curious: Yellow\" is a risible and pretentious steaming pile. It doesn't matter what one's political views are because this film can hardly be taken seriously on any level. As for the claim that frontal male nudity is an automatic NC-17, that isn't true. I've seen R-rated films with male nudity. Granted, they only offer some fleeting views, but where are the R-rated films with gaping vulvas and flapping labia? Nowhere, because they don't exist. The same goes for those crappy cable shows: schlongs swinging in the breeze but not a clitoris in sight. And those pretentious indie movies li...</td>\n",
              "    </tr>\n",
              "    <tr>\n",
              "      <th>2</th>\n",
              "      <td>neg</td>\n",
              "      <td>If only to avoid making this type of film in the future. This film is interesting as an experiment but tells no cogent story.&lt;br /&gt;&lt;br /&gt;One might feel virtuous for sitting thru it because it touches on so many IMPORTANT issues but it does so without any discernable motive. The viewer comes away with no new perspectives (unless one comes up with one while one's mind wanders, as it will invariably do during this pointless film).&lt;br /&gt;&lt;br /&gt;One might better spend one's time staring out a window at a tree growing.&lt;br /&gt;&lt;br /&gt;</td>\n",
              "    </tr>\n",
              "    <tr>\n",
              "      <th>3</th>\n",
              "      <td>neg</td>\n",
              "      <td>This film was probably inspired by Godard's Masculin, féminin and I urge you to see that film instead.&lt;br /&gt;&lt;br /&gt;The film has two strong elements and those are, (1) the realistic acting (2) the impressive, undeservedly good, photo. Apart from that, what strikes me most is the endless stream of silliness. Lena Nyman has to be most annoying actress in the world. She acts so stupid and with all the nudity in this film,...it's unattractive. Comparing to Godard's film, intellectuality has been replaced with stupidity. Without going too far on this subject, I would say that follows from the dif...</td>\n",
              "    </tr>\n",
              "    <tr>\n",
              "      <th>4</th>\n",
              "      <td>neg</td>\n",
              "      <td>Oh, brother...after hearing about this ridiculous film for umpteen years all I can think of is that old Peggy Lee song..&lt;br /&gt;&lt;br /&gt;\"Is that all there is??\" ...I was just an early teen when this smoked fish hit the U.S. I was too young to get in the theater (although I did manage to sneak into \"Goodbye Columbus\"). Then a screening at a local film museum beckoned - Finally I could see this film, except now I was as old as my parents were when they schlepped to see it!!&lt;br /&gt;&lt;br /&gt;The ONLY reason this film was not condemned to the anonymous sands of time was because of the obscenity case spa...</td>\n",
              "    </tr>\n",
              "    <tr>\n",
              "      <th>...</th>\n",
              "      <td>...</td>\n",
              "      <td>...</td>\n",
              "    </tr>\n",
              "    <tr>\n",
              "      <th>24995</th>\n",
              "      <td>pos</td>\n",
              "      <td>A hit at the time but now better categorised as an Australian cult film. The humour is broad, unsubtle and, in the final scene where a BBC studio fire is extinguished by urinating on it, crude. Contains just about every cliche about the traditional Australian pilgrimage to 'the old country', and every cliche about those rapacious, stuck up, whinging, Tory Brits. Would be acceptable to the British because of its strong cast of well known actors, and to Australians of that generation, who can 'get' the humour. Americans -- forget it. The language and jokes are in the Australian dialect of En...</td>\n",
              "    </tr>\n",
              "    <tr>\n",
              "      <th>24996</th>\n",
              "      <td>pos</td>\n",
              "      <td>I love this movie like no other. Another time I will try to explain its virtues to the uninitiated, but for the moment let me quote a few of pieces the remarkable dialogue, which, please remember, is all tongue in cheek. Aussies and Poms will understand, everyone else-well?&lt;br /&gt;&lt;br /&gt;(title song lyric)\"he can sink a beer, he can pick a queer, in his latest double-breasted Bondi gear.\"&lt;br /&gt;&lt;br /&gt;(another song lyric) \"All pommies are bastards, bastards, or worse, and England is the a**e-hole of the universe.\"&lt;br /&gt;&lt;br /&gt;(during a television interview on an \"arty program\"): Mr Mackenzie wha...</td>\n",
              "    </tr>\n",
              "    <tr>\n",
              "      <th>24997</th>\n",
              "      <td>pos</td>\n",
              "      <td>This film and it's sequel Barry Mckenzie holds his own, are the two greatest comedies to ever be produced. A great story a young Aussie bloke travels to england to claim his inheritance and meets up with his mates, who are just as loveable and innocent as he is.&lt;br /&gt;&lt;br /&gt;It's chock a block full of great, sayings , where else could you find someone who needs a drink so bad that he's as dry as a dead dingoes donger? great characters, top acting, and it's got great sheilas and more Fosters consumption then any other three films put together. Top notch.&lt;br /&gt;&lt;br /&gt;And some of the funniest so...</td>\n",
              "    </tr>\n",
              "    <tr>\n",
              "      <th>24998</th>\n",
              "      <td>pos</td>\n",
              "      <td>'The Adventures Of Barry McKenzie' started life as a satirical comic strip in 'Private Eye', written by Barry Humphries and based on an idea by Peter Cook. McKenzie ( 'Bazza' to his friends ) is a lanky, loud, hat-wearing Australian whose two main interests in life are sex ( despite never having had any ) and Fosters lager. In 1972, he found his way to the big screen for the first of two outings. It must have been tempting for Humphries to cast himself as 'Bazza', but he wisely left the job to Barry Crocker ( later to sing the theme to the television soap opera 'Neighbours'! ). Humphries i...</td>\n",
              "    </tr>\n",
              "    <tr>\n",
              "      <th>24999</th>\n",
              "      <td>pos</td>\n",
              "      <td>The story centers around Barry McKenzie who must go to England if he wishes to claim his inheritance. Being about the grossest Aussie shearer ever to set foot outside this great Nation of ours there is something of a culture clash and much fun and games ensue. The songs of Barry McKenzie(Barry Crocker) are highlights.</td>\n",
              "    </tr>\n",
              "  </tbody>\n",
              "</table>\n",
              "<p>2000 rows × 2 columns</p>\n",
              "</div>"
            ],
            "text/plain": [
              "      label                                                                                                                                                                                                                                                                                                                                                                                                                                                                                                                                                                                                                     text\n",
              "0       neg  I rented I AM CURIOUS-YELLOW from my video store because of all the controversy that surrounded it when it was first released in 1967. I also heard that at first it was seized by U.S. customs if it ever tried to enter this country, therefore being a fan of films considered \"controversial\" I really had to see this for myself.<br /><br />The plot is centered around a young Swedish drama student named Lena who wants to learn everything she can about life. In particular she wants to focus her attentions to making some sort of documentary on what the average Swede thought about certain politica...\n",
              "1       neg  \"I Am Curious: Yellow\" is a risible and pretentious steaming pile. It doesn't matter what one's political views are because this film can hardly be taken seriously on any level. As for the claim that frontal male nudity is an automatic NC-17, that isn't true. I've seen R-rated films with male nudity. Granted, they only offer some fleeting views, but where are the R-rated films with gaping vulvas and flapping labia? Nowhere, because they don't exist. The same goes for those crappy cable shows: schlongs swinging in the breeze but not a clitoris in sight. And those pretentious indie movies li...\n",
              "2       neg                                                                         If only to avoid making this type of film in the future. This film is interesting as an experiment but tells no cogent story.<br /><br />One might feel virtuous for sitting thru it because it touches on so many IMPORTANT issues but it does so without any discernable motive. The viewer comes away with no new perspectives (unless one comes up with one while one's mind wanders, as it will invariably do during this pointless film).<br /><br />One might better spend one's time staring out a window at a tree growing.<br /><br />\n",
              "3       neg  This film was probably inspired by Godard's Masculin, féminin and I urge you to see that film instead.<br /><br />The film has two strong elements and those are, (1) the realistic acting (2) the impressive, undeservedly good, photo. Apart from that, what strikes me most is the endless stream of silliness. Lena Nyman has to be most annoying actress in the world. She acts so stupid and with all the nudity in this film,...it's unattractive. Comparing to Godard's film, intellectuality has been replaced with stupidity. Without going too far on this subject, I would say that follows from the dif...\n",
              "4       neg  Oh, brother...after hearing about this ridiculous film for umpteen years all I can think of is that old Peggy Lee song..<br /><br />\"Is that all there is??\" ...I was just an early teen when this smoked fish hit the U.S. I was too young to get in the theater (although I did manage to sneak into \"Goodbye Columbus\"). Then a screening at a local film museum beckoned - Finally I could see this film, except now I was as old as my parents were when they schlepped to see it!!<br /><br />The ONLY reason this film was not condemned to the anonymous sands of time was because of the obscenity case spa...\n",
              "...     ...                                                                                                                                                                                                                                                                                                                                                                                                                                                                                                                                                                                                                      ...\n",
              "24995   pos  A hit at the time but now better categorised as an Australian cult film. The humour is broad, unsubtle and, in the final scene where a BBC studio fire is extinguished by urinating on it, crude. Contains just about every cliche about the traditional Australian pilgrimage to 'the old country', and every cliche about those rapacious, stuck up, whinging, Tory Brits. Would be acceptable to the British because of its strong cast of well known actors, and to Australians of that generation, who can 'get' the humour. Americans -- forget it. The language and jokes are in the Australian dialect of En...\n",
              "24996   pos  I love this movie like no other. Another time I will try to explain its virtues to the uninitiated, but for the moment let me quote a few of pieces the remarkable dialogue, which, please remember, is all tongue in cheek. Aussies and Poms will understand, everyone else-well?<br /><br />(title song lyric)\"he can sink a beer, he can pick a queer, in his latest double-breasted Bondi gear.\"<br /><br />(another song lyric) \"All pommies are bastards, bastards, or worse, and England is the a**e-hole of the universe.\"<br /><br />(during a television interview on an \"arty program\"): Mr Mackenzie wha...\n",
              "24997   pos  This film and it's sequel Barry Mckenzie holds his own, are the two greatest comedies to ever be produced. A great story a young Aussie bloke travels to england to claim his inheritance and meets up with his mates, who are just as loveable and innocent as he is.<br /><br />It's chock a block full of great, sayings , where else could you find someone who needs a drink so bad that he's as dry as a dead dingoes donger? great characters, top acting, and it's got great sheilas and more Fosters consumption then any other three films put together. Top notch.<br /><br />And some of the funniest so...\n",
              "24998   pos  'The Adventures Of Barry McKenzie' started life as a satirical comic strip in 'Private Eye', written by Barry Humphries and based on an idea by Peter Cook. McKenzie ( 'Bazza' to his friends ) is a lanky, loud, hat-wearing Australian whose two main interests in life are sex ( despite never having had any ) and Fosters lager. In 1972, he found his way to the big screen for the first of two outings. It must have been tempting for Humphries to cast himself as 'Bazza', but he wisely left the job to Barry Crocker ( later to sing the theme to the television soap opera 'Neighbours'! ). Humphries i...\n",
              "24999   pos                                                                                                                                                                                                                                                                                          The story centers around Barry McKenzie who must go to England if he wishes to claim his inheritance. Being about the grossest Aussie shearer ever to set foot outside this great Nation of ours there is something of a culture clash and much fun and games ensue. The songs of Barry McKenzie(Barry Crocker) are highlights.\n",
              "\n",
              "[2000 rows x 2 columns]"
            ]
          },
          "metadata": {}
        }
      ]
    },
    {
      "cell_type": "markdown",
      "metadata": {
        "id": "MdelTEzHiKbk"
      },
      "source": [
        "load data\n"
      ],
      "id": "MdelTEzHiKbk"
    },
    {
      "cell_type": "code",
      "metadata": {
        "scrolled": false,
        "id": "c335bfb9",
        "colab": {
          "base_uri": "https://localhost:8080/",
          "height": 523
        },
        "outputId": "22e4c5a6-23a2-498d-9e3f-b967c7259bb3"
      },
      "source": [
        "train_lm = TextDataLoaders.from_df(tf, text_col='text', is_lm=True)\n",
        "train_lm.show_batch()"
      ],
      "id": "c335bfb9",
      "execution_count": 80,
      "outputs": [
        {
          "output_type": "display_data",
          "data": {
            "text/html": [
              ""
            ],
            "text/plain": [
              "<IPython.core.display.HTML object>"
            ]
          },
          "metadata": {}
        },
        {
          "output_type": "stream",
          "name": "stderr",
          "text": [
            "/usr/local/lib/python3.7/dist-packages/numpy/core/_asarray.py:83: VisibleDeprecationWarning: Creating an ndarray from ragged nested sequences (which is a list-or-tuple of lists-or-tuples-or ndarrays with different lengths or shapes) is deprecated. If you meant to do this, you must specify 'dtype=object' when creating the ndarray\n",
            "  return array(a, dtype, copy=False, order=order)\n"
          ]
        },
        {
          "output_type": "display_data",
          "data": {
            "text/html": [
              "<table border=\"1\" class=\"dataframe\">\n",
              "  <thead>\n",
              "    <tr style=\"text-align: right;\">\n",
              "      <th></th>\n",
              "      <th>text</th>\n",
              "      <th>text_</th>\n",
              "    </tr>\n",
              "  </thead>\n",
              "  <tbody>\n",
              "    <tr>\n",
              "      <th>0</th>\n",
              "      <td>xxbos xxmaj valentine is a horrible movie . xxmaj this is what i thought of it : \\n\\n xxmaj acting : xxmaj very bad . xxmaj katherine xxmaj xxunk can not act . xxmaj the other 's were n't much better . \\n\\n xxmaj story : xxmaj the story was okay , but it could have been more developed . xxmaj this movie had the potential to be a great movie ,</td>\n",
              "      <td>xxmaj valentine is a horrible movie . xxmaj this is what i thought of it : \\n\\n xxmaj acting : xxmaj very bad . xxmaj katherine xxmaj xxunk can not act . xxmaj the other 's were n't much better . \\n\\n xxmaj story : xxmaj the story was okay , but it could have been more developed . xxmaj this movie had the potential to be a great movie , but</td>\n",
              "    </tr>\n",
              "    <tr>\n",
              "      <th>1</th>\n",
              "      <td>kids wo n't understand some of the darker moments in the film , which makes this film rather watchable for adults . i was also impressed with the cinematography , using animation and digital animation to create a seamless network of pans and xxunk . xxmaj the musical score was once again solid , proving xxmaj hans xxmaj zimmer is the go - to guy when it comes to animated scores ,</td>\n",
              "      <td>wo n't understand some of the darker moments in the film , which makes this film rather watchable for adults . i was also impressed with the cinematography , using animation and digital animation to create a seamless network of pans and xxunk . xxmaj the musical score was once again solid , proving xxmaj hans xxmaj zimmer is the go - to guy when it comes to animated scores , and</td>\n",
              "    </tr>\n",
              "    <tr>\n",
              "      <th>2</th>\n",
              "      <td>particularly funny scene involves 2 british sisters ( evans and xxmaj shelley ) who seem amused by everything anyone says , but when xxmaj lemmon xxunk out his photos of kids and , yes , ex - wife - to - be , he has the girls xxunk along with him before xxmaj matthau can show up with the promised drinks ! \\n\\n xxmaj very entertaining . xxbos xxmaj here 's an</td>\n",
              "      <td>funny scene involves 2 british sisters ( evans and xxmaj shelley ) who seem amused by everything anyone says , but when xxmaj lemmon xxunk out his photos of kids and , yes , ex - wife - to - be , he has the girls xxunk along with him before xxmaj matthau can show up with the promised drinks ! \\n\\n xxmaj very entertaining . xxbos xxmaj here 's an interesting</td>\n",
              "    </tr>\n",
              "    <tr>\n",
              "      <th>3</th>\n",
              "      <td>as a housewife living in a small town . xxmaj she 's had some experience with local theater and has ambitions of going to xxmaj broadway . xxmaj when a big - time actor arrives in town , she pursues him in hopes that he can give her a career boost . xxmaj but , her husband is worried about shenanigans -- as this actor is a cad . xxmaj so ,</td>\n",
              "      <td>a housewife living in a small town . xxmaj she 's had some experience with local theater and has ambitions of going to xxmaj broadway . xxmaj when a big - time actor arrives in town , she pursues him in hopes that he can give her a career boost . xxmaj but , her husband is worried about shenanigans -- as this actor is a cad . xxmaj so , the</td>\n",
              "    </tr>\n",
              "    <tr>\n",
              "      <th>4</th>\n",
              "      <td>and xxmaj pumbaa met via their xxunk . xxmaj but there is n't much more than that . \\n\\n xxmaj it xxunk some scenes from the original , then it ab - xxunk about how this movie changed them a little bit . xxmaj but still , is that it ? i was hoping for something a little more . xxmaj instead , all i have to show for it is an</td>\n",
              "      <td>xxmaj pumbaa met via their xxunk . xxmaj but there is n't much more than that . \\n\\n xxmaj it xxunk some scenes from the original , then it ab - xxunk about how this movie changed them a little bit . xxmaj but still , is that it ? i was hoping for something a little more . xxmaj instead , all i have to show for it is an empty</td>\n",
              "    </tr>\n",
              "    <tr>\n",
              "      <th>5</th>\n",
              "      <td>xxup is a good , old - fashioned scary movie … something that 's rather rare nowadays . xxbos xxmaj that reviewers liked this movie surprises me . xxmaj the plot is a xxunk . xxmaj the characters are wooden . xxmaj michael xxmaj xxunk spends most of the film spying on the other characters and xxunk all of them . xxmaj no one has any redeeming quality or point - of</td>\n",
              "      <td>is a good , old - fashioned scary movie … something that 's rather rare nowadays . xxbos xxmaj that reviewers liked this movie surprises me . xxmaj the plot is a xxunk . xxmaj the characters are wooden . xxmaj michael xxmaj xxunk spends most of the film spying on the other characters and xxunk all of them . xxmaj no one has any redeeming quality or point - of -</td>\n",
              "    </tr>\n",
              "    <tr>\n",
              "      <th>6</th>\n",
              "      <td>who becomes an xxunk part of xxmaj montana 's dream , xxmaj pfeiffer is subtle and understated , giving that sense of something going on underneath , while affecting a rather cold and distant exterior xxunk . xxmaj she , like xxmaj pacino , definitely makes her presence felt as she fairly xxunk across the screen with a stoic , enigmatic and sultry demeanor . \\n\\n xxmaj the supporting cast includes xxmaj</td>\n",
              "      <td>becomes an xxunk part of xxmaj montana 's dream , xxmaj pfeiffer is subtle and understated , giving that sense of something going on underneath , while affecting a rather cold and distant exterior xxunk . xxmaj she , like xxmaj pacino , definitely makes her presence felt as she fairly xxunk across the screen with a stoic , enigmatic and sultry demeanor . \\n\\n xxmaj the supporting cast includes xxmaj mary</td>\n",
              "    </tr>\n",
              "    <tr>\n",
              "      <th>7</th>\n",
              "      <td>xxunk of xxmaj alex and xxmaj kiki , and xxmaj kiki and her brother xxmaj sandu were kind of next door neighborhood story . \\n\\n xxmaj the two main reasons i do n't like this movie are , firstly , the film did n't told us how they started to fall in love ? xxmaj sounds like after xxmaj alex moved into the building which xxmaj kiki was living , then two</td>\n",
              "      <td>of xxmaj alex and xxmaj kiki , and xxmaj kiki and her brother xxmaj sandu were kind of next door neighborhood story . \\n\\n xxmaj the two main reasons i do n't like this movie are , firstly , the film did n't told us how they started to fall in love ? xxmaj sounds like after xxmaj alex moved into the building which xxmaj kiki was living , then two girls</td>\n",
              "    </tr>\n",
              "    <tr>\n",
              "      <th>8</th>\n",
              "      <td>out , \" which is hilarious if you see the film . xxbos xxmaj creep - \" your journey terminates here . \" xxmaj some very graphic scenes and … well , yeah , that 's about all for this film . \\n\\n xxmaj no real plot , no storyline . xxmaj no likable characters , well , ' characters ' is n't correct considering you do n't have a clue who</td>\n",
              "      <td>, \" which is hilarious if you see the film . xxbos xxmaj creep - \" your journey terminates here . \" xxmaj some very graphic scenes and … well , yeah , that 's about all for this film . \\n\\n xxmaj no real plot , no storyline . xxmaj no likable characters , well , ' characters ' is n't correct considering you do n't have a clue who anyone</td>\n",
              "    </tr>\n",
              "  </tbody>\n",
              "</table>"
            ],
            "text/plain": [
              "<IPython.core.display.HTML object>"
            ]
          },
          "metadata": {}
        }
      ]
    },
    {
      "cell_type": "code",
      "metadata": {
        "scrolled": true,
        "id": "aa7e1c2b"
      },
      "source": [
        "learn = language_model_learner(train_lm, AWD_LSTM, metrics=[accuracy, Perplexity()], wd=0.1).to_fp16()"
      ],
      "id": "aa7e1c2b",
      "execution_count": 81,
      "outputs": []
    },
    {
      "cell_type": "code",
      "metadata": {
        "id": "1fb004d4"
      },
      "source": [
        "import torch\n",
        "torch.cuda.empty_cache()\n"
      ],
      "id": "1fb004d4",
      "execution_count": 82,
      "outputs": []
    },
    {
      "cell_type": "code",
      "metadata": {
        "colab": {
          "base_uri": "https://localhost:8080/",
          "height": 81
        },
        "id": "a90862c1",
        "outputId": "993e85cd-e5a6-4337-d9bb-1f313f415900"
      },
      "source": [
        "learn.fit_one_cycle(1, 1e-2)"
      ],
      "id": "a90862c1",
      "execution_count": 83,
      "outputs": [
        {
          "output_type": "display_data",
          "data": {
            "text/html": [
              "<table border=\"1\" class=\"dataframe\">\n",
              "  <thead>\n",
              "    <tr style=\"text-align: left;\">\n",
              "      <th>epoch</th>\n",
              "      <th>train_loss</th>\n",
              "      <th>valid_loss</th>\n",
              "      <th>accuracy</th>\n",
              "      <th>perplexity</th>\n",
              "      <th>time</th>\n",
              "    </tr>\n",
              "  </thead>\n",
              "  <tbody>\n",
              "    <tr>\n",
              "      <td>0</td>\n",
              "      <td>4.386915</td>\n",
              "      <td>4.022849</td>\n",
              "      <td>0.277022</td>\n",
              "      <td>55.860004</td>\n",
              "      <td>01:22</td>\n",
              "    </tr>\n",
              "  </tbody>\n",
              "</table>"
            ],
            "text/plain": [
              "<IPython.core.display.HTML object>"
            ]
          },
          "metadata": {}
        }
      ]
    },
    {
      "cell_type": "markdown",
      "metadata": {
        "id": "TqwLKoKnbYkq"
      },
      "source": [
        "fine tune"
      ],
      "id": "TqwLKoKnbYkq"
    },
    {
      "cell_type": "code",
      "metadata": {
        "id": "4752f38a",
        "colab": {
          "base_uri": "https://localhost:8080/",
          "height": 206
        },
        "outputId": "0ab58ef5-c322-4b78-afef-a8e84e9e22ab"
      },
      "source": [
        "learn.unfreeze()\n",
        "learn.fit_one_cycle(5, 1e-3)"
      ],
      "id": "4752f38a",
      "execution_count": 84,
      "outputs": [
        {
          "output_type": "display_data",
          "data": {
            "text/html": [
              "<table border=\"1\" class=\"dataframe\">\n",
              "  <thead>\n",
              "    <tr style=\"text-align: left;\">\n",
              "      <th>epoch</th>\n",
              "      <th>train_loss</th>\n",
              "      <th>valid_loss</th>\n",
              "      <th>accuracy</th>\n",
              "      <th>perplexity</th>\n",
              "      <th>time</th>\n",
              "    </tr>\n",
              "  </thead>\n",
              "  <tbody>\n",
              "    <tr>\n",
              "      <td>0</td>\n",
              "      <td>4.089097</td>\n",
              "      <td>3.949054</td>\n",
              "      <td>0.284153</td>\n",
              "      <td>51.886272</td>\n",
              "      <td>01:37</td>\n",
              "    </tr>\n",
              "    <tr>\n",
              "      <td>1</td>\n",
              "      <td>3.983710</td>\n",
              "      <td>3.893379</td>\n",
              "      <td>0.289465</td>\n",
              "      <td>49.076458</td>\n",
              "      <td>01:37</td>\n",
              "    </tr>\n",
              "    <tr>\n",
              "      <td>2</td>\n",
              "      <td>3.855970</td>\n",
              "      <td>3.867990</td>\n",
              "      <td>0.292863</td>\n",
              "      <td>47.846107</td>\n",
              "      <td>01:37</td>\n",
              "    </tr>\n",
              "    <tr>\n",
              "      <td>3</td>\n",
              "      <td>3.734733</td>\n",
              "      <td>3.855643</td>\n",
              "      <td>0.293610</td>\n",
              "      <td>47.259007</td>\n",
              "      <td>01:38</td>\n",
              "    </tr>\n",
              "    <tr>\n",
              "      <td>4</td>\n",
              "      <td>3.654365</td>\n",
              "      <td>3.856240</td>\n",
              "      <td>0.294063</td>\n",
              "      <td>47.287231</td>\n",
              "      <td>01:38</td>\n",
              "    </tr>\n",
              "  </tbody>\n",
              "</table>"
            ],
            "text/plain": [
              "<IPython.core.display.HTML object>"
            ]
          },
          "metadata": {}
        }
      ]
    },
    {
      "cell_type": "code",
      "metadata": {
        "id": "gxIGCJP_jsbg"
      },
      "source": [
        "learn.save_encoder('finetuned')"
      ],
      "id": "gxIGCJP_jsbg",
      "execution_count": 85,
      "outputs": []
    },
    {
      "cell_type": "markdown",
      "metadata": {
        "id": "DQs30r8jjw9w"
      },
      "source": [
        "load text classification model"
      ],
      "id": "DQs30r8jjw9w"
    },
    {
      "cell_type": "code",
      "metadata": {
        "id": "r9HbfiXRjvjo",
        "colab": {
          "base_uri": "https://localhost:8080/",
          "height": 523
        },
        "outputId": "9d2088fb-b5cd-487c-87c3-7245698380df"
      },
      "source": [
        "train_class = TextDataLoaders.from_df(tf, text_col='text', label_col='label' ,text_vocab=train_lm.vocab)\n",
        "train_class.show_batch()"
      ],
      "id": "r9HbfiXRjvjo",
      "execution_count": 86,
      "outputs": [
        {
          "output_type": "display_data",
          "data": {
            "text/html": [
              ""
            ],
            "text/plain": [
              "<IPython.core.display.HTML object>"
            ]
          },
          "metadata": {}
        },
        {
          "output_type": "stream",
          "name": "stderr",
          "text": [
            "/usr/local/lib/python3.7/dist-packages/numpy/core/_asarray.py:83: VisibleDeprecationWarning: Creating an ndarray from ragged nested sequences (which is a list-or-tuple of lists-or-tuples-or ndarrays with different lengths or shapes) is deprecated. If you meant to do this, you must specify 'dtype=object' when creating the ndarray\n",
            "  return array(a, dtype, copy=False, order=order)\n"
          ]
        },
        {
          "output_type": "display_data",
          "data": {
            "text/html": [
              "<table border=\"1\" class=\"dataframe\">\n",
              "  <thead>\n",
              "    <tr style=\"text-align: right;\">\n",
              "      <th></th>\n",
              "      <th>text</th>\n",
              "      <th>category</th>\n",
              "    </tr>\n",
              "  </thead>\n",
              "  <tbody>\n",
              "    <tr>\n",
              "      <th>0</th>\n",
              "      <td>xxbos xxmaj in xxup nyc , seaman xxmaj michael o'hara ( orson xxmaj welles ) rescues xxmaj elsa xxmaj bannister ( rita xxmaj hayworth ) from a xxunk &amp; rape as she takes a horse &amp; carriage through xxmaj central xxmaj park -and lives to regret it . xxmaj xxunk - haired xxmaj hayworth 's a xxunk blonde in this one ; as dazzling as fresh - fallen snow -but nowhere near as pure … \\n\\n xxmaj to reveal any more of the convoluted plot in this xxunk \" noir \" would be criminal . xxmaj it 's as xxunk as the mirrors used to xxunk effect in the final scenes -but the film holds far darker secrets : xxmaj from the xxup ny xxmaj times : \" childhood xxmaj shadows : xxmaj the xxmaj hidden xxmaj story xxmaj of xxmaj the xxmaj black xxmaj dahlia xxmaj murder \" by</td>\n",
              "      <td>pos</td>\n",
              "    </tr>\n",
              "    <tr>\n",
              "      <th>1</th>\n",
              "      <td>xxbos xxmaj by 1987 xxmaj hong xxmaj kong had given the world such films as xxmaj xxunk xxmaj hung 's ` encounters of the xxmaj spooky xxmaj kind ' xxmaj chow xxmaj yun xxmaj fat in xxmaj john xxmaj woo 's iconic ` a xxmaj better xxmaj tomorrow ' , ` zu xxmaj warriors ' and the classic ` mr xxmaj vampire ' . xxmaj jackie xxmaj chan was having international success on video , but it was with ` a xxmaj chinese xxmaj ghost xxmaj story ' that xxup hk cinema had its first real xxunk theatrical hit in the xxmaj west for many years . \\n\\n xxmaj western xxunk had never seen anything like it . xxmaj it was a film that took various ingredients that xxup hk cinema had used for years ( flying swordsman , wildly choreographed martial arts and the supernatural ) and blended them</td>\n",
              "      <td>pos</td>\n",
              "    </tr>\n",
              "    <tr>\n",
              "      <th>2</th>\n",
              "      <td>xxbos xxmaj well , on it 's credit side ( if it can be said to have one ) , xxmaj timothy xxmaj hines xxup did manage to capture the original setting of xxup h.g . xxmaj wells ' outstanding xxunk . xxmaj but other than that - well , to call a xxunk a xxunk - it sucks xxunk . xxmaj what the xxmaj master xxmaj ed xxmaj wood could have done with the alleged $ 20 million dollar budget ! xxmaj timothy xxmaj hines really does make xxmaj mr . xxmaj wood , who was a flawed genius anyway , look like the best filmmaker of all time . xxmaj the special effects ( i guess you 'd call them that ) are not even up to computer game standards . xxmaj the acting is , well , perhaps about dinner theater xxunk , and the accents are</td>\n",
              "      <td>neg</td>\n",
              "    </tr>\n",
              "    <tr>\n",
              "      <th>3</th>\n",
              "      <td>xxbos xxmaj despite loving xxmaj rita xxmaj hayworth , finding the final few sequences of the film intriguing and being able to appreciate some of the xxunk \" symbolic \" aspects of the cinematography , xxmaj the xxmaj lady from xxmaj shanghai did n't quite work for me . i had a problem with most of the performances , the script and the overall structure . xxmaj and in a film that 's mostly people talking with each other in various situations , that 's quite a problem . xxmaj the xxmaj lady from xxmaj shanghai ended up at a very low \" c \" , or a 7 , for me . \\n\\n xxmaj the xxmaj lady from xxmaj shanghai is really all about xxmaj orson xxmaj welles ' character , xxmaj michael o'hara . o'hara sees xxmaj elsa \" xxunk \" xxmaj bannister ( rita xxmaj hayworth )</td>\n",
              "      <td>pos</td>\n",
              "    </tr>\n",
              "    <tr>\n",
              "      <th>4</th>\n",
              "      <td>xxbos xxmaj around the late 1970 's , xxunk xxmaj don xxmaj bluth , frustrated with the output his company , xxmaj disney was xxunk , xxunk from the xxmaj mouse xxmaj house to form his own studio . xxmaj his first production , xxup the xxup secret xxup of xxup nimh , was a brilliant feature that still holds up well to this day . xxmaj this was followed by xxup an xxmaj american xxup tail and xxup the xxup land xxup before xxup time , both of which were made under the involvement of xxmaj steven xxmaj spielberg and were xxunk successful . xxmaj although none of those two films had the dark adult appeal of xxup nimh , they still are very charming , enjoyable features for both children and grown - ups . xxmaj but before long , xxmaj don xxmaj bluth had his first major</td>\n",
              "      <td>neg</td>\n",
              "    </tr>\n",
              "    <tr>\n",
              "      <th>5</th>\n",
              "      <td>xxbos xxmaj already his first claim , that desires are always artificial , is totally xxunk . \\n\\n xxmaj when a xxmaj xxunk xxmaj witness reject gets his own documentary on movies  or anything for that matter - it 's time for anyone to get their own . xxmaj although far , far more intelligent than , say , xxmaj paris xxmaj xxunk ( i know , not too difficult ) xxmaj zizek 's mouth xxunk just as much xxunk as hers , just a different kind . xxmaj he combines the worst from both his professional worlds : xxunk and philosophy . xxmaj both fields are notorious for conveniently offering the expert xxunk xxrep 3 * xxunk plenty of xxunk to create xxunk theories , to rant without a beginning or end , and to connect concepts almost randomly , in the process xxunk the xxmaj english language</td>\n",
              "      <td>neg</td>\n",
              "    </tr>\n",
              "    <tr>\n",
              "      <th>6</th>\n",
              "      <td>xxbos xxmaj if you 've ever been xxunk on the xxmaj underground by a xxmaj christian who says , \" jesus is the answer . xxmaj what 's the question ? \" , then perhaps you should thank xxmaj god if you 've never met a xxmaj xxunk . xxmaj xxunk xxmaj zizek , the most evangelical of xxmaj xxunk , would surely exchange the word \" jesus \" in that statement for \" lacan / xxmaj xxunk \" . \\n\\n xxmaj zizek 's star burns brightly at the moment , no doubt because we generally view films and pop culture purely as entertainment for our consumption . xxmaj so it seems impressive when someone - anyone - comes along and says , \" hang on , films may say something about ourselves . \" \\n\\n xxmaj the ideas xxmaj zizek xxunk in this film are \" true \" purely</td>\n",
              "      <td>neg</td>\n",
              "    </tr>\n",
              "    <tr>\n",
              "      <th>7</th>\n",
              "      <td>xxbos xxmaj within the realm of xxmaj science xxmaj fiction , two particular themes consistently elicit interest , were initially explored in the literature of a pre - cinematic era , and have since been xxunk xxunk by filmmakers and writers alike , with varying degrees of success . xxmaj the first theme , that of time travel , has held an xxunk fascination for fans of film , as well as the written word , most recently on the screen with yet another version of the xxup h.g . xxmaj wells classic , ` the xxmaj time xxmaj machine . ' xxmaj the second theme , which also manages to hold audiences in xxunk , is that of invisibility , which sparks the imagination with it 's seemingly endless and xxunk possibilities . xxmaj and this theme , too , has again become the basis for a film adapted</td>\n",
              "      <td>neg</td>\n",
              "    </tr>\n",
              "    <tr>\n",
              "      <th>8</th>\n",
              "      <td>xxbos xxmaj i 'm going to write about this movie and about \" irreversible \" ( the ( xxunk scene in it ) . xxmaj so you are warned , if you have n't seen the movie yet . xxmaj this are just my thoughts , why i think the movie fails ( in the end - pun intended ) . \\n\\n xxmaj acting wise , xxmaj rosario xxmaj dawson is really good and almost xxunk portraying someone almost a decade younger ( a teenager in other words ) . xxmaj the villain guy is good , but loses his \" evil \" touch right before the end . xxmaj if he really never changes , then why would he let a woman tie him up ? xxmaj he would n't , period . xxmaj then we also have the bartender / 2nd rape xxmaj dude . xxmaj actually i</td>\n",
              "      <td>neg</td>\n",
              "    </tr>\n",
              "  </tbody>\n",
              "</table>"
            ],
            "text/plain": [
              "<IPython.core.display.HTML object>"
            ]
          },
          "metadata": {}
        }
      ]
    },
    {
      "cell_type": "markdown",
      "metadata": {
        "id": "kYuE8DkolD_B"
      },
      "source": [
        ""
      ],
      "id": "kYuE8DkolD_B"
    },
    {
      "cell_type": "code",
      "metadata": {
        "id": "gA5h6D6plEZs"
      },
      "source": [
        "learn = text_classifier_learner(train_class, AWD_LSTM, drop_mult=0.5, metrics=accuracy)\n",
        "learn = learn.load_encoder('finetuned')"
      ],
      "id": "gA5h6D6plEZs",
      "execution_count": 87,
      "outputs": []
    },
    {
      "cell_type": "code",
      "metadata": {
        "id": "DHSWhdaglRys",
        "colab": {
          "base_uri": "https://localhost:8080/",
          "height": 81
        },
        "outputId": "fe99f1e4-94cb-4fee-b200-d929e62b58a4"
      },
      "source": [
        "learn.freeze_to(-2)\n",
        "learn.fit_one_cycle(1, slice(1e-2/(2.6**4),1e-2))"
      ],
      "id": "DHSWhdaglRys",
      "execution_count": 88,
      "outputs": [
        {
          "output_type": "display_data",
          "data": {
            "text/html": [
              "<table border=\"1\" class=\"dataframe\">\n",
              "  <thead>\n",
              "    <tr style=\"text-align: left;\">\n",
              "      <th>epoch</th>\n",
              "      <th>train_loss</th>\n",
              "      <th>valid_loss</th>\n",
              "      <th>accuracy</th>\n",
              "      <th>time</th>\n",
              "    </tr>\n",
              "  </thead>\n",
              "  <tbody>\n",
              "    <tr>\n",
              "      <td>0</td>\n",
              "      <td>0.450346</td>\n",
              "      <td>0.428057</td>\n",
              "      <td>0.837500</td>\n",
              "      <td>00:26</td>\n",
              "    </tr>\n",
              "  </tbody>\n",
              "</table>"
            ],
            "text/plain": [
              "<IPython.core.display.HTML object>"
            ]
          },
          "metadata": {}
        }
      ]
    },
    {
      "cell_type": "code",
      "metadata": {
        "id": "SAEw_1xSlR9l",
        "colab": {
          "base_uri": "https://localhost:8080/",
          "height": 81
        },
        "outputId": "bbb0a2f6-a933-4ec9-b83e-f51a88bc4eba"
      },
      "source": [
        "learn.freeze_to(-3)\n",
        "learn.fit_one_cycle(1, slice(5e-3/(2.6**4),5e-3))"
      ],
      "id": "SAEw_1xSlR9l",
      "execution_count": 89,
      "outputs": [
        {
          "output_type": "display_data",
          "data": {
            "text/html": [
              "<table border=\"1\" class=\"dataframe\">\n",
              "  <thead>\n",
              "    <tr style=\"text-align: left;\">\n",
              "      <th>epoch</th>\n",
              "      <th>train_loss</th>\n",
              "      <th>valid_loss</th>\n",
              "      <th>accuracy</th>\n",
              "      <th>time</th>\n",
              "    </tr>\n",
              "  </thead>\n",
              "  <tbody>\n",
              "    <tr>\n",
              "      <td>0</td>\n",
              "      <td>0.328497</td>\n",
              "      <td>0.302270</td>\n",
              "      <td>0.877500</td>\n",
              "      <td>00:39</td>\n",
              "    </tr>\n",
              "  </tbody>\n",
              "</table>"
            ],
            "text/plain": [
              "<IPython.core.display.HTML object>"
            ]
          },
          "metadata": {}
        }
      ]
    },
    {
      "cell_type": "code",
      "metadata": {
        "id": "UfUHsvDIlafw",
        "colab": {
          "base_uri": "https://localhost:8080/",
          "height": 112
        },
        "outputId": "0b0e8979-cc1e-40b0-a57a-f52ab88dece8"
      },
      "source": [
        "learn.unfreeze()\n",
        "learn.fit_one_cycle(2, slice(1e-3/(2.6**4),1e-3))"
      ],
      "id": "UfUHsvDIlafw",
      "execution_count": 90,
      "outputs": [
        {
          "output_type": "display_data",
          "data": {
            "text/html": [
              "<table border=\"1\" class=\"dataframe\">\n",
              "  <thead>\n",
              "    <tr style=\"text-align: left;\">\n",
              "      <th>epoch</th>\n",
              "      <th>train_loss</th>\n",
              "      <th>valid_loss</th>\n",
              "      <th>accuracy</th>\n",
              "      <th>time</th>\n",
              "    </tr>\n",
              "  </thead>\n",
              "  <tbody>\n",
              "    <tr>\n",
              "      <td>0</td>\n",
              "      <td>0.230268</td>\n",
              "      <td>0.262797</td>\n",
              "      <td>0.885000</td>\n",
              "      <td>00:50</td>\n",
              "    </tr>\n",
              "    <tr>\n",
              "      <td>1</td>\n",
              "      <td>0.202747</td>\n",
              "      <td>0.252097</td>\n",
              "      <td>0.887500</td>\n",
              "      <td>00:50</td>\n",
              "    </tr>\n",
              "  </tbody>\n",
              "</table>"
            ],
            "text/plain": [
              "<IPython.core.display.HTML object>"
            ]
          },
          "metadata": {}
        }
      ]
    },
    {
      "cell_type": "code",
      "metadata": {
        "id": "xj5n2e02ATvs"
      },
      "source": [
        "test_dl = learn.dls.test_dl(tester, with_labels=True )\n"
      ],
      "id": "xj5n2e02ATvs",
      "execution_count": 91,
      "outputs": []
    },
    {
      "cell_type": "code",
      "metadata": {
        "colab": {
          "base_uri": "https://localhost:8080/",
          "height": 33
        },
        "id": "OFu7MGP5mbdY",
        "outputId": "2f222959-119e-4ac4-a304-70a931d67278"
      },
      "source": [
        "acc = learn.validate(dl=test_dl)[1]\n",
        "print(acc)"
      ],
      "id": "OFu7MGP5mbdY",
      "execution_count": 92,
      "outputs": [
        {
          "output_type": "display_data",
          "data": {
            "text/html": [
              ""
            ],
            "text/plain": [
              "<IPython.core.display.HTML object>"
            ]
          },
          "metadata": {}
        },
        {
          "output_type": "stream",
          "name": "stdout",
          "text": [
            "0.8230000138282776\n"
          ]
        }
      ]
    }
  ]
}